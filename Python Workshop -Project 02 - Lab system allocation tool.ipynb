{
 "cells": [
  {
   "cell_type": "markdown",
   "metadata": {},
   "source": [
    "# Lab system allocation tool"
   ]
  },
  {
   "cell_type": "markdown",
   "metadata": {},
   "source": [
    "There are list of students who need to either practice programming or need to give a test and you need allocate lab systems in your college to these students. \n",
    "\n",
    "Below is the list of students and their roll numbers, \n",
    "Student_list = {'Raja':701,'Teja':702,'Suraj':770...}\n",
    "Name - Raja , Roll Number - 701\n",
    "\n",
    "List of Labs and their system allocation status is as given below\n",
    "\n",
    "{'MCA Lab':{'1':['Free','Good'],'2':['Allocated','Repair'],'3':['Free','Good'] ....}, 'Cisco Lab':{'1':['Free','Good'],'2':['Allocated','Repair'],'3':['Free','Good'] ....}}\n",
    "\n",
    "Main dictonary - Lab Name : dicitonary of System ID's\n",
    "Second Dictionary(values) - System ID : [Allocation status , Repair status]\n",
    "\n",
    "Allocate the system to students in order of the ID's and Labs as below\n",
    "\n",
    "Raja - 701 - MCA Lab - 1\n",
    "Teja - 701 - MCA Lab - 3\n",
    "Suraj - 770 - Cisco Lab - 1\n"
   ]
  },
  {
   "cell_type": "markdown",
   "metadata": {},
   "source": [
    "## Solution"
   ]
  },
  {
   "cell_type": "markdown",
   "metadata": {},
   "source": [
    "As per the problem description we see that there are 3 students with 3 unique roll no's\n",
    "Hence:\n",
    "<li> We would first create two seperate lists of roll numbers and name and merge them into a dictionary.\n",
    "<li> Post the creating the first dictionary we would then create the second dictionary corresponding to the Labs and there status."
   ]
  },
  {
   "cell_type": "code",
   "execution_count": 2,
   "metadata": {},
   "outputs": [
    {
     "name": "stdout",
     "output_type": "stream",
     "text": [
      "{'Raja': 701, 'Teja': 702, 'Suraj': 770}\n"
     ]
    }
   ],
   "source": [
    "#Name of students:\n",
    "names=['Raja','Teja','Suraj']\n",
    "\n",
    "#Roll no list:\n",
    "roll=[701,702,770]\n",
    "\n",
    "#Creating a dictionary combining the above two lists:\n",
    "\n",
    "stu_data = dict(zip(names,roll))\n",
    "\n",
    "print(stu_data)\n"
   ]
  },
  {
   "cell_type": "code",
   "execution_count": 3,
   "metadata": {},
   "outputs": [
    {
     "name": "stdout",
     "output_type": "stream",
     "text": [
      "{'MCA Lab': {'1': ['Free', 'Good'], '2': ['Allocated', 'Repair'], '3': ['Free', 'Good']}, 'Cisco Lab': {'1': ['Free', 'Good'], '2': ['Allocated', 'Repair'], '3': ['Free', 'Good']}}\n"
     ]
    }
   ],
   "source": [
    "#Creating a lab dictionary:\n",
    "Lab_dict={'MCA Lab':{'1': ['Free', 'Good'], '2': ['Allocated', 'Repair'], '3': ['Free', 'Good']},'Cisco Lab':{'1': ['Free', 'Good'], '2': ['Allocated', 'Repair'], '3': ['Free', 'Good']}}\n",
    "print(Lab_dict)"
   ]
  },
  {
   "cell_type": "markdown",
   "metadata": {},
   "source": [
    "###### As per the problem allocation\n",
    "Raja - 701 - MCA Lab - 1 Teja - 701 - MCA Lab - 3 Suraj - 770 - Cisco Lab - 1"
   ]
  },
  {
   "cell_type": "code",
   "execution_count": 4,
   "metadata": {},
   "outputs": [
    {
     "name": "stdout",
     "output_type": "stream",
     "text": [
      "Raja would be alloted MCA Lab 1 which is ['Free', 'Good']\n",
      "Teja would be alloted MCA Lab 2 which is ['Free', 'Good']\n",
      "Suraj would be alloted Cisco Lab 1 which is ['Free', 'Good']\n"
     ]
    }
   ],
   "source": [
    "#Assigning the values of the list names as per the allocation\n",
    "Raja=Lab_dict['MCA Lab']['1']\n",
    "Teja=Lab_dict['MCA Lab']['3']\n",
    "Suraj=Lab_dict['Cisco Lab']['1']\n",
    "\n",
    "#printing final output\n",
    "print('Raja would be alloted MCA Lab 1 which is',Raja)\n",
    "print('Teja would be alloted MCA Lab 2 which is',Teja)\n",
    "print('Suraj would be alloted Cisco Lab 1 which is',Suraj)"
   ]
  },
  {
   "cell_type": "code",
   "execution_count": null,
   "metadata": {},
   "outputs": [],
   "source": []
  }
 ],
 "metadata": {
  "kernelspec": {
   "display_name": "Python 3",
   "language": "python",
   "name": "python3"
  },
  "language_info": {
   "codemirror_mode": {
    "name": "ipython",
    "version": 3
   },
   "file_extension": ".py",
   "mimetype": "text/x-python",
   "name": "python",
   "nbconvert_exporter": "python",
   "pygments_lexer": "ipython3",
   "version": "3.6.4"
  }
 },
 "nbformat": 4,
 "nbformat_minor": 2
}
